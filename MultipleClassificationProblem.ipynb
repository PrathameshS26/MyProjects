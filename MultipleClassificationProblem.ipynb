{
  "nbformat": 4,
  "nbformat_minor": 0,
  "metadata": {
    "colab": {
      "provenance": []
    },
    "kernelspec": {
      "name": "python3",
      "display_name": "Python 3"
    },
    "language_info": {
      "name": "python"
    }
  },
  "cells": [
    {
      "cell_type": "code",
      "execution_count": 2,
      "metadata": {
        "id": "zFQS_fLSdaj5"
      },
      "outputs": [],
      "source": [
        "import numpy as np\n",
        "import pandas as pd\n",
        "import matplotlib.pyplot as plt\n",
        "import os\n",
        "import tensorflow as tf"
      ]
    },
    {
      "cell_type": "code",
      "source": [
        "data = tf.keras.datasets.mnist\n",
        "(X_train, y_train),(X_test, y_test) = data.load_data()"
      ],
      "metadata": {
        "colab": {
          "base_uri": "https://localhost:8080/",
          "height": 0
        },
        "id": "LOozKi6ym6UX",
        "outputId": "e4a6a312-b28d-4f4f-957d-fb4ebe7e5876"
      },
      "execution_count": 3,
      "outputs": [
        {
          "output_type": "stream",
          "name": "stdout",
          "text": [
            "Downloading data from https://storage.googleapis.com/tensorflow/tf-keras-datasets/mnist.npz\n",
            "11490434/11490434 [==============================] - 0s 0us/step\n"
          ]
        }
      ]
    },
    {
      "cell_type": "code",
      "source": [
        "X_train.shape, X_test.shape, y_train.shape, y_test.shape"
      ],
      "metadata": {
        "colab": {
          "base_uri": "https://localhost:8080/",
          "height": 0
        },
        "id": "pQhVQxvUndMw",
        "outputId": "27518563-c0e8-4583-8c53-3ec4fa28e086"
      },
      "execution_count": 4,
      "outputs": [
        {
          "output_type": "execute_result",
          "data": {
            "text/plain": [
              "((60000, 28, 28), (10000, 28, 28), (60000,), (10000,))"
            ]
          },
          "metadata": {},
          "execution_count": 4
        }
      ]
    },
    {
      "cell_type": "code",
      "source": [
        "x_valid, x_train = X_train[:5000]/255, X_train[5000:]/255\n",
        "y_valid, y_train1 = y_train[:5000], y_train[5000:]"
      ],
      "metadata": {
        "id": "hf2fOhBJnmnq"
      },
      "execution_count": 5,
      "outputs": []
    },
    {
      "cell_type": "code",
      "source": [
        "x_valid.shape, x_train.shape, y_valid.shape, y_train1.shape"
      ],
      "metadata": {
        "colab": {
          "base_uri": "https://localhost:8080/",
          "height": 0
        },
        "id": "h6ZQTHLYpLV_",
        "outputId": "ffa5fb1b-3f28-44e2-c56e-22b709c344ad"
      },
      "execution_count": 6,
      "outputs": [
        {
          "output_type": "execute_result",
          "data": {
            "text/plain": [
              "((5000, 28, 28), (55000, 28, 28), (5000,), (55000,))"
            ]
          },
          "metadata": {},
          "execution_count": 6
        }
      ]
    },
    {
      "cell_type": "code",
      "source": [
        "plt.imshow(x_valid[0], cmap='binary')"
      ],
      "metadata": {
        "colab": {
          "base_uri": "https://localhost:8080/",
          "height": 447
        },
        "id": "hoY2jLnRpTPm",
        "outputId": "8a657a13-c64f-4991-f5ba-a6ff8a8fd432"
      },
      "execution_count": 7,
      "outputs": [
        {
          "output_type": "execute_result",
          "data": {
            "text/plain": [
              "<matplotlib.image.AxesImage at 0x7a16b99f0df0>"
            ]
          },
          "metadata": {},
          "execution_count": 7
        },
        {
          "output_type": "display_data",
          "data": {
            "text/plain": [
              "<Figure size 640x480 with 1 Axes>"
            ],
            "image/png": "[encoded data removed]"
          },
          "metadata": {}
        }
      ]
    },
    {
      "cell_type": "code",
      "source": [
        "LAYER = [\n",
        "    tf.keras.layers.Flatten(input_shape=[28,28], name='InputLayer'),\n",
        "    tf.keras.layers.Dense(300, activation='relu', name='HiddenLayer1'),\n",
        "    tf.keras.layers.Dense(100, activation='relu', name='HiddenLayer2'),\n",
        "    tf.keras.layers.Dense(10, activation='softmax', name='OutputLayer'),\n",
        "]"
      ],
      "metadata": {
        "id": "J9mpO2VgptsN"
      },
      "execution_count": 8,
      "outputs": []
    },
    {
      "cell_type": "code",
      "source": [
        "model = tf.keras.models.Sequential(LAYER)"
      ],
      "metadata": {
        "id": "aPjlV3uEq1e2"
      },
      "execution_count": 9,
      "outputs": []
    },
    {
      "cell_type": "code",
      "source": [
        "model.summary()"
      ],
      "metadata": {
        "colab": {
          "base_uri": "https://localhost:8080/",
          "height": 0
        },
        "id": "cnMflHRorBSY",
        "outputId": "5947d539-2b70-43dd-d590-cb8970cc30ed"
      },
      "execution_count": 10,
      "outputs": [
        {
          "output_type": "stream",
          "name": "stdout",
          "text": [
            "Model: \"sequential\"\n",
            "_________________________________________________________________\n",
            " Layer (type)                Output Shape              Param #   \n",
            "=================================================================\n",
            " InputLayer (Flatten)        (None, 784)               0         \n",
            "                                                                 \n",
            " HiddenLayer1 (Dense)        (None, 300)               235500    \n",
            "                                                                 \n",
            " HiddenLayer2 (Dense)        (None, 100)               30100     \n",
            "                                                                 \n",
            " OutputLayer (Dense)         (None, 10)                1010      \n",
            "                                                                 \n",
            "=================================================================\n",
            "Total params: 266610 (1.02 MB)\n",
            "Trainable params: 266610 (1.02 MB)\n",
            "Non-trainable params: 0 (0.00 Byte)\n",
            "_________________________________________________________________\n"
          ]
        }
      ]
    },
    {
      "cell_type": "code",
      "source": [
        "LOSS_FUNCTION = 'sparse_categorical_crossentropy'\n",
        "OPTIMIZER = 'adam'\n",
        "METRICS = ['accuracy']\n",
        "\n",
        "model.compile(loss = LOSS_FUNCTION,optimizer = OPTIMIZER, metrics = METRICS)"
      ],
      "metadata": {
        "id": "9G9xe2FCrEVi"
      },
      "execution_count": 13,
      "outputs": []
    },
    {
      "cell_type": "code",
      "source": [
        "EPOCHS = 10\n",
        "VALIDATION_SET = (x_valid, y_valid)\n",
        "\n",
        "model_history = model.fit(x_train, y_train1, epochs = EPOCHS, validation_data=VALIDATION_SET)"
      ],
      "metadata": {
        "colab": {
          "base_uri": "https://localhost:8080/",
          "height": 0
        },
        "id": "IvtL8MnasOYX",
        "outputId": "80731bda-bb0e-4d6b-9abb-ef697a5a97fc"
      },
      "execution_count": 15,
      "outputs": [
        {
          "output_type": "stream",
          "name": "stdout",
          "text": [
            "Epoch 1/10\n",
            "1719/1719 [==============================] - 13s 7ms/step - loss: 0.2119 - accuracy: 0.9382 - val_loss: 0.1101 - val_accuracy: 0.9674\n",
            "Epoch 2/10\n",
            "1719/1719 [==============================] - 10s 6ms/step - loss: 0.0901 - accuracy: 0.9720 - val_loss: 0.0777 - val_accuracy: 0.9750\n",
            "Epoch 3/10\n",
            "1719/1719 [==============================] - 10s 6ms/step - loss: 0.0591 - accuracy: 0.9813 - val_loss: 0.0707 - val_accuracy: 0.9788\n",
            "Epoch 4/10\n",
            "1719/1719 [==============================] - 10s 6ms/step - loss: 0.0450 - accuracy: 0.9846 - val_loss: 0.0801 - val_accuracy: 0.9756\n",
            "Epoch 5/10\n",
            "1719/1719 [==============================] - 11s 6ms/step - loss: 0.0340 - accuracy: 0.9892 - val_loss: 0.1029 - val_accuracy: 0.9716\n",
            "Epoch 6/10\n",
            "1719/1719 [==============================] - 11s 6ms/step - loss: 0.0249 - accuracy: 0.9912 - val_loss: 0.0706 - val_accuracy: 0.9798\n",
            "Epoch 7/10\n",
            "1719/1719 [==============================] - 9s 5ms/step - loss: 0.0234 - accuracy: 0.9923 - val_loss: 0.0802 - val_accuracy: 0.9818\n",
            "Epoch 8/10\n",
            "1719/1719 [==============================] - 11s 6ms/step - loss: 0.0204 - accuracy: 0.9933 - val_loss: 0.0804 - val_accuracy: 0.9814\n",
            "Epoch 9/10\n",
            "1719/1719 [==============================] - 12s 7ms/step - loss: 0.0180 - accuracy: 0.9941 - val_loss: 0.1058 - val_accuracy: 0.9760\n",
            "Epoch 10/10\n",
            "1719/1719 [==============================] - 11s 6ms/step - loss: 0.0177 - accuracy: 0.9941 - val_loss: 0.0802 - val_accuracy: 0.9814\n"
          ]
        }
      ]
    },
    {
      "cell_type": "code",
      "source": [
        "model.evaluate(X_test, y_test)"
      ],
      "metadata": {
        "colab": {
          "base_uri": "https://localhost:8080/",
          "height": 0
        },
        "id": "6_RYzSM4uCx_",
        "outputId": "ba28845b-94d2-44df-d2ca-32f33a757ea7"
      },
      "execution_count": 16,
      "outputs": [
        {
          "output_type": "stream",
          "name": "stdout",
          "text": [
            "313/313 [==============================] - 1s 4ms/step - loss: 20.5681 - accuracy: 0.9807\n"
          ]
        },
        {
          "output_type": "execute_result",
          "data": {
            "text/plain": [
              "[20.568117141723633, 0.9807000160217285]"
            ]
          },
          "metadata": {},
          "execution_count": 16
        }
      ]
    },
    {
      "cell_type": "code",
      "source": [
        "plt.plot(model_history.history['accuracy'], label='accuracy')\n",
        "plt.plot(model_history.history['val_accuracy'], label='val_acc')\n",
        "plt.legend(['accuracy','val_acc'], loc='upper left')\n",
        "plt.show()"
      ],
      "metadata": {
        "colab": {
          "base_uri": "https://localhost:8080/",
          "height": 430
        },
        "id": "cxixdI6PvaKR",
        "outputId": "4164da27-1cd8-4077-e152-9dbf5f4e8255"
      },
      "execution_count": 17,
      "outputs": [
        {
          "output_type": "display_data",
          "data": {
            "text/plain": [
              "<Figure size 640x480 with 1 Axes>"
            ],
            "image/png": "[encoded data removed]"
          },
          "metadata": {}
        }
      ]
    },
    {
      "cell_type": "code",
      "source": [
        "x_new = X_test[3]\n",
        "y_new = y_test[3]\n",
        "y_prob = model.predict(np.expand_dims(x_new, axis=0))\n",
        "y_pred = np.argmax(y_prob, axis=-1)"
      ],
      "metadata": {
        "colab": {
          "base_uri": "https://localhost:8080/",
          "height": 0
        },
        "id": "jy2iJPlTwKV1",
        "outputId": "24eea695-818e-40e7-d0f3-6983e10af073"
      },
      "execution_count": 25,
      "outputs": [
        {
          "output_type": "stream",
          "name": "stdout",
          "text": [
            "1/1 [==============================] - 0s 100ms/step\n"
          ]
        }
      ]
    },
    {
      "cell_type": "code",
      "source": [
        "plt.imshow(x_new, cmap='binary')\n",
        "plt.title(f\"Predicted {y_pred} vs Actual {y_new}\")\n",
        "plt.show()"
      ],
      "metadata": {
        "colab": {
          "base_uri": "https://localhost:8080/",
          "height": 452
        },
        "id": "bf0wb3MPxmKY",
        "outputId": "a33bcd83-5882-489e-b71f-1645b341e786"
      },
      "execution_count": 27,
      "outputs": [
        {
          "output_type": "display_data",
          "data": {
            "text/plain": [
              "<Figure size 640x480 with 1 Axes>"
            ],
            "image/png": "[encoded data removed]"
          },
          "metadata": {}
        }
      ]
    },
    {
      "cell_type": "code",
      "source": [],
      "metadata": {
        "id": "MOam-tCMzRp6"
      },
      "execution_count": null,
      "outputs": []
    }
  ]
}